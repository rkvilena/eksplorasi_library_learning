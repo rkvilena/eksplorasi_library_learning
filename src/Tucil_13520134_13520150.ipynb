{
 "cells": [
  {
   "attachments": {},
   "cell_type": "markdown",
   "metadata": {},
   "source": [
    "# **Tugas Kecil IF3270 - Pembelajaran Mesin**\n",
    "---------------------------------------\n",
    "Anggota Kelompok\n",
    "* 13520134 Raka Wirabuana Ninagan\n",
    "* 13520150 Haidar Ihzaulhaq"
   ]
  },
  {
   "cell_type": "code",
   "execution_count": 58,
   "metadata": {},
   "outputs": [
    {
     "data": {
      "text/html": [
       "<div>\n",
       "<style scoped>\n",
       "    .dataframe tbody tr th:only-of-type {\n",
       "        vertical-align: middle;\n",
       "    }\n",
       "\n",
       "    .dataframe tbody tr th {\n",
       "        vertical-align: top;\n",
       "    }\n",
       "\n",
       "    .dataframe thead th {\n",
       "        text-align: right;\n",
       "    }\n",
       "</style>\n",
       "<table border=\"1\" class=\"dataframe\">\n",
       "  <thead>\n",
       "    <tr style=\"text-align: right;\">\n",
       "      <th></th>\n",
       "      <th>mean radius</th>\n",
       "      <th>mean texture</th>\n",
       "      <th>mean perimeter</th>\n",
       "      <th>mean area</th>\n",
       "      <th>mean smoothness</th>\n",
       "      <th>mean compactness</th>\n",
       "      <th>mean concavity</th>\n",
       "      <th>mean concave points</th>\n",
       "      <th>mean symmetry</th>\n",
       "      <th>mean fractal dimension</th>\n",
       "      <th>...</th>\n",
       "      <th>worst texture</th>\n",
       "      <th>worst perimeter</th>\n",
       "      <th>worst area</th>\n",
       "      <th>worst smoothness</th>\n",
       "      <th>worst compactness</th>\n",
       "      <th>worst concavity</th>\n",
       "      <th>worst concave points</th>\n",
       "      <th>worst symmetry</th>\n",
       "      <th>worst fractal dimension</th>\n",
       "      <th>target</th>\n",
       "    </tr>\n",
       "  </thead>\n",
       "  <tbody>\n",
       "    <tr>\n",
       "      <th>0</th>\n",
       "      <td>17.99</td>\n",
       "      <td>10.38</td>\n",
       "      <td>122.80</td>\n",
       "      <td>1001.0</td>\n",
       "      <td>0.11840</td>\n",
       "      <td>0.27760</td>\n",
       "      <td>0.3001</td>\n",
       "      <td>0.14710</td>\n",
       "      <td>0.2419</td>\n",
       "      <td>0.07871</td>\n",
       "      <td>...</td>\n",
       "      <td>17.33</td>\n",
       "      <td>184.60</td>\n",
       "      <td>2019.0</td>\n",
       "      <td>0.1622</td>\n",
       "      <td>0.6656</td>\n",
       "      <td>0.7119</td>\n",
       "      <td>0.2654</td>\n",
       "      <td>0.4601</td>\n",
       "      <td>0.11890</td>\n",
       "      <td>0</td>\n",
       "    </tr>\n",
       "    <tr>\n",
       "      <th>1</th>\n",
       "      <td>20.57</td>\n",
       "      <td>17.77</td>\n",
       "      <td>132.90</td>\n",
       "      <td>1326.0</td>\n",
       "      <td>0.08474</td>\n",
       "      <td>0.07864</td>\n",
       "      <td>0.0869</td>\n",
       "      <td>0.07017</td>\n",
       "      <td>0.1812</td>\n",
       "      <td>0.05667</td>\n",
       "      <td>...</td>\n",
       "      <td>23.41</td>\n",
       "      <td>158.80</td>\n",
       "      <td>1956.0</td>\n",
       "      <td>0.1238</td>\n",
       "      <td>0.1866</td>\n",
       "      <td>0.2416</td>\n",
       "      <td>0.1860</td>\n",
       "      <td>0.2750</td>\n",
       "      <td>0.08902</td>\n",
       "      <td>0</td>\n",
       "    </tr>\n",
       "    <tr>\n",
       "      <th>2</th>\n",
       "      <td>19.69</td>\n",
       "      <td>21.25</td>\n",
       "      <td>130.00</td>\n",
       "      <td>1203.0</td>\n",
       "      <td>0.10960</td>\n",
       "      <td>0.15990</td>\n",
       "      <td>0.1974</td>\n",
       "      <td>0.12790</td>\n",
       "      <td>0.2069</td>\n",
       "      <td>0.05999</td>\n",
       "      <td>...</td>\n",
       "      <td>25.53</td>\n",
       "      <td>152.50</td>\n",
       "      <td>1709.0</td>\n",
       "      <td>0.1444</td>\n",
       "      <td>0.4245</td>\n",
       "      <td>0.4504</td>\n",
       "      <td>0.2430</td>\n",
       "      <td>0.3613</td>\n",
       "      <td>0.08758</td>\n",
       "      <td>0</td>\n",
       "    </tr>\n",
       "    <tr>\n",
       "      <th>3</th>\n",
       "      <td>11.42</td>\n",
       "      <td>20.38</td>\n",
       "      <td>77.58</td>\n",
       "      <td>386.1</td>\n",
       "      <td>0.14250</td>\n",
       "      <td>0.28390</td>\n",
       "      <td>0.2414</td>\n",
       "      <td>0.10520</td>\n",
       "      <td>0.2597</td>\n",
       "      <td>0.09744</td>\n",
       "      <td>...</td>\n",
       "      <td>26.50</td>\n",
       "      <td>98.87</td>\n",
       "      <td>567.7</td>\n",
       "      <td>0.2098</td>\n",
       "      <td>0.8663</td>\n",
       "      <td>0.6869</td>\n",
       "      <td>0.2575</td>\n",
       "      <td>0.6638</td>\n",
       "      <td>0.17300</td>\n",
       "      <td>0</td>\n",
       "    </tr>\n",
       "    <tr>\n",
       "      <th>4</th>\n",
       "      <td>20.29</td>\n",
       "      <td>14.34</td>\n",
       "      <td>135.10</td>\n",
       "      <td>1297.0</td>\n",
       "      <td>0.10030</td>\n",
       "      <td>0.13280</td>\n",
       "      <td>0.1980</td>\n",
       "      <td>0.10430</td>\n",
       "      <td>0.1809</td>\n",
       "      <td>0.05883</td>\n",
       "      <td>...</td>\n",
       "      <td>16.67</td>\n",
       "      <td>152.20</td>\n",
       "      <td>1575.0</td>\n",
       "      <td>0.1374</td>\n",
       "      <td>0.2050</td>\n",
       "      <td>0.4000</td>\n",
       "      <td>0.1625</td>\n",
       "      <td>0.2364</td>\n",
       "      <td>0.07678</td>\n",
       "      <td>0</td>\n",
       "    </tr>\n",
       "  </tbody>\n",
       "</table>\n",
       "<p>5 rows × 31 columns</p>\n",
       "</div>"
      ],
      "text/plain": [
       "   mean radius  mean texture  mean perimeter  mean area  mean smoothness  \\\n",
       "0        17.99         10.38          122.80     1001.0          0.11840   \n",
       "1        20.57         17.77          132.90     1326.0          0.08474   \n",
       "2        19.69         21.25          130.00     1203.0          0.10960   \n",
       "3        11.42         20.38           77.58      386.1          0.14250   \n",
       "4        20.29         14.34          135.10     1297.0          0.10030   \n",
       "\n",
       "   mean compactness  mean concavity  mean concave points  mean symmetry  \\\n",
       "0           0.27760          0.3001              0.14710         0.2419   \n",
       "1           0.07864          0.0869              0.07017         0.1812   \n",
       "2           0.15990          0.1974              0.12790         0.2069   \n",
       "3           0.28390          0.2414              0.10520         0.2597   \n",
       "4           0.13280          0.1980              0.10430         0.1809   \n",
       "\n",
       "   mean fractal dimension  ...  worst texture  worst perimeter  worst area  \\\n",
       "0                 0.07871  ...          17.33           184.60      2019.0   \n",
       "1                 0.05667  ...          23.41           158.80      1956.0   \n",
       "2                 0.05999  ...          25.53           152.50      1709.0   \n",
       "3                 0.09744  ...          26.50            98.87       567.7   \n",
       "4                 0.05883  ...          16.67           152.20      1575.0   \n",
       "\n",
       "   worst smoothness  worst compactness  worst concavity  worst concave points  \\\n",
       "0            0.1622             0.6656           0.7119                0.2654   \n",
       "1            0.1238             0.1866           0.2416                0.1860   \n",
       "2            0.1444             0.4245           0.4504                0.2430   \n",
       "3            0.2098             0.8663           0.6869                0.2575   \n",
       "4            0.1374             0.2050           0.4000                0.1625   \n",
       "\n",
       "   worst symmetry  worst fractal dimension  target  \n",
       "0          0.4601                  0.11890       0  \n",
       "1          0.2750                  0.08902       0  \n",
       "2          0.3613                  0.08758       0  \n",
       "3          0.6638                  0.17300       0  \n",
       "4          0.2364                  0.07678       0  \n",
       "\n",
       "[5 rows x 31 columns]"
      ]
     },
     "execution_count": 58,
     "metadata": {},
     "output_type": "execute_result"
    }
   ],
   "source": [
    "# Import General Library\n",
    "import pandas as pd\n",
    "import matplotlib as mplot\n",
    "from sklearn.datasets import load_breast_cancer\n",
    "from sklearn.preprocessing import LabelEncoder\n",
    "\n",
    "# Import train and test data split\n",
    "from sklearn.model_selection import train_test_split\n",
    "\n",
    "# Import decision tree\n",
    "from sklearn import tree\n",
    "from sklearn.tree import DecisionTreeClassifier\n",
    "\n",
    "# Import ID3Estimator\n",
    "import six\n",
    "import sys\n",
    "sys.modules['sklearn.externals.six'] = six\n",
    "from id3 import Id3Estimator\n",
    "from id3 import export_graphviz\n",
    "from IPython.display import Image\n",
    "\n",
    "# Import K Means\n",
    "from sklearn.cluster import KMeans\n",
    "\n",
    "# Import Logistic Regression\n",
    "from sklearn.linear_model import LogisticRegression\n",
    "\n",
    "# Import Neural Network\n",
    "from sklearn.neural_network import MLPClassifier\n",
    "\n",
    "# Import SVC\n",
    "from sklearn.preprocessing import StandardScaler\n",
    "from sklearn.pipeline import make_pipeline\n",
    "from sklearn.svm import SVC\n",
    "\n",
    "# Import Pickle\n",
    "import pickle\n",
    "\n",
    "from sklearn.metrics import accuracy_score, precision_score, recall_score, f1_score\n",
    "from sklearn.metrics import confusion_matrix\n",
    "\n",
    "#  Ambil dataset breastcanceer\n",
    "bcdata = load_breast_cancer()\n",
    "\n",
    "df = pd.DataFrame(bcdata.data, columns=bcdata.feature_names)\n",
    "df['target'] = pd.Series(bcdata.target)\n",
    "\n",
    "#  Encode data bertipe kategorikal\n",
    "encoder = LabelEncoder()\n",
    "for column in df.columns:\n",
    "    if df[column].dtype == 'category':\n",
    "        df[column] = encoder.fit_transform(df[column])\n",
    "df.head()"
   ]
  },
  {
   "attachments": {},
   "cell_type": "markdown",
   "metadata": {},
   "source": [
    "## **Nomor 1 : Membaca Dataset**\n",
    "---------------------------------------------------------------\n",
    "Gunakanlah sklearn.datasets untuk membaca dataset breast-cancer. <br>\n",
    "Membagi dataset menjadi 80% data training dan 20% data testing."
   ]
  },
  {
   "cell_type": "code",
   "execution_count": 32,
   "metadata": {},
   "outputs": [],
   "source": [
    "Y = df.target\n",
    "X = df[bcdata.feature_names]\n",
    "\n",
    "X_train, X_test, Y_train, Y_test = train_test_split(X, Y, train_size=0.8, test_size=0.2, random_state=0)"
   ]
  },
  {
   "cell_type": "code",
   "execution_count": 33,
   "metadata": {},
   "outputs": [
    {
     "name": "stdout",
     "output_type": "stream",
     "text": [
      "114\n",
      "113.80000000000001\n"
     ]
    }
   ],
   "source": [
    "# Untuk pemeriksaan jumlah pembagian proporsi dataset\n",
    "print(len(X_test))\n",
    "print((2/10) * 569)"
   ]
  },
  {
   "attachments": {},
   "cell_type": "markdown",
   "metadata": {},
   "source": [
    "## **Nomor 2 : Melakukan Pembelajaran dengan Algoritma yang Ditentukan**\n",
    "---------------------------------------------------------------\n",
    "Menggunakan metode ```fit(X,Y)``` untuk melakukan pembelajaran dengan algoritma di bawah ini:\n",
    "* DecisionTreeClassifier\n",
    "* Id3Estimator\n",
    "* K Means\n",
    "* LogisticRegression\n",
    "* Neural_network\n",
    "* SVM"
   ]
  },
  {
   "cell_type": "code",
   "execution_count": 34,
   "metadata": {},
   "outputs": [
    {
     "name": "stdout",
     "output_type": "stream",
     "text": [
      "\n"
     ]
    },
    {
     "data": {
      "image/png": "[encoded data removed]",
      "text/plain": [
       "<Figure size 432x288 with 1 Axes>"
      ]
     },
     "metadata": {
      "needs_background": "light"
     },
     "output_type": "display_data"
    }
   ],
   "source": [
    "# DecisionTreeClassifier model\n",
    "dtcModel = tree.DecisionTreeClassifier()\n",
    "dtcModel.fit(X_train, Y_train)\n",
    "tree.plot_tree(dtcModel)\n",
    "print() # erase the long chunk of output"
   ]
  },
  {
   "cell_type": "code",
   "execution_count": 35,
   "metadata": {},
   "outputs": [
    {
     "data": {
      "image/png": "[encoded data removed]",
      "text/plain": [
       "<IPython.core.display.Image object>"
      ]
     },
     "execution_count": 35,
     "metadata": {},
     "output_type": "execute_result"
    }
   ],
   "source": [
    "# Id3Estimator model\n",
    "# ---------------------------------------- BAGIAN HAIDAR\n",
    "# id3eModel = tree.DecisionTreeClassifier()\n",
    "# id3eModel.fit(X_train, Y_train)\n",
    "id3eModel = Id3Estimator()\n",
    "id3eModel = id3eModel.fit(X_train, Y_train)\n",
    "tree = export_graphviz(id3eModel.tree_, 'tree.dot', None)\n",
    "Image(filename='id3tree.png')"
   ]
  },
  {
   "cell_type": "code",
   "execution_count": 36,
   "metadata": {},
   "outputs": [],
   "source": [
    "# K Means model\n",
    "# nCluster = 2\n",
    "# kmeansModel = KMeans(n_clusters=nCluster, random_state=0, n_init='auto').fit(X_train)\n",
    "# kmeansModel.fit(X_train, Y_train)"
   ]
  },
  {
   "cell_type": "code",
   "execution_count": 37,
   "metadata": {},
   "outputs": [
    {
     "name": "stderr",
     "output_type": "stream",
     "text": [
      "c:\\Python\\lib\\site-packages\\sklearn\\linear_model\\_logistic.py:814: ConvergenceWarning: lbfgs failed to converge (status=1):\n",
      "STOP: TOTAL NO. of ITERATIONS REACHED LIMIT.\n",
      "\n",
      "Increase the number of iterations (max_iter) or scale the data as shown in:\n",
      "    https://scikit-learn.org/stable/modules/preprocessing.html\n",
      "Please also refer to the documentation for alternative solver options:\n",
      "    https://scikit-learn.org/stable/modules/linear_model.html#logistic-regression\n",
      "  n_iter_i = _check_optimize_result(\n"
     ]
    }
   ],
   "source": [
    "# LogisticRegression model\n",
    "lrModel = LogisticRegression(random_state=0, max_iter=1000).fit(X_train, Y_train)"
   ]
  },
  {
   "cell_type": "code",
   "execution_count": 38,
   "metadata": {},
   "outputs": [
    {
     "data": {
      "text/plain": [
       "MLPClassifier(max_iter=500, random_state=0)"
      ]
     },
     "execution_count": 38,
     "metadata": {},
     "output_type": "execute_result"
    }
   ],
   "source": [
    "# NeuralNetwork model\n",
    "nnModel = MLPClassifier(random_state=0, max_iter=500).fit(X_train, Y_train)\n",
    "nnModel.fit(X_train, Y_train)"
   ]
  },
  {
   "cell_type": "code",
   "execution_count": 39,
   "metadata": {},
   "outputs": [
    {
     "data": {
      "text/plain": [
       "Pipeline(steps=[('standardscaler', StandardScaler()),\n",
       "                ('svc', SVC(gamma='auto'))])"
      ]
     },
     "execution_count": 39,
     "metadata": {},
     "output_type": "execute_result"
    }
   ],
   "source": [
    "# SVM model\n",
    "svmModel = make_pipeline(StandardScaler(), SVC(gamma='auto'))\n",
    "svmModel.fit(X_train, Y_train)"
   ]
  },
  {
   "attachments": {},
   "cell_type": "markdown",
   "metadata": {},
   "source": [
    "## **Nomor 3 : Menyimpan Model**\n",
    "---------------------------------------------------------------\n",
    "Menyimpan model menggunakan libary ```pickle```"
   ]
  },
  {
   "cell_type": "code",
   "execution_count": 40,
   "metadata": {},
   "outputs": [],
   "source": [
    "with open(\"modelfile/DTCmodel.pkl\", \"wb\") as file:\n",
    "    pickle.dump(dtcModel, file)\n",
    "\n",
    "with open(\"modelfile/ID3model.pkl\", \"wb\") as file:\n",
    "    pickle.dump(id3eModel, file)\n",
    "\n",
    "# with open(\"modelfile/KMeansmodel.pkl\", \"wb\") as file:\n",
    "#     pickle.dump(kmeansModel, file)\n",
    "\n",
    "with open(\"modelfile/LRmodel.pkl\", \"wb\") as file:\n",
    "    pickle.dump(lrModel, file)\n",
    "\n",
    "with open(\"modelfile/NNmodel.pkl\", \"wb\") as file:\n",
    "    pickle.dump(nnModel, file)\n",
    "\n",
    "with open(\"modelfile/SVMmodel.pkl\", \"wb\") as file:\n",
    "    pickle.dump(svmModel, file)"
   ]
  },
  {
   "attachments": {},
   "cell_type": "markdown",
   "metadata": {},
   "source": [
    "## **Nomor 4 : Melakukan Prediksi**\n",
    "---------------------------------------------------------------\n",
    "Melakukan proses prediction dengan load model yang sudah disimpan\n",
    "memanfaatkan pustaka pickle, kemudian memanggil method ```predict(datatest)```.\n",
    "Lakukan evaluasi hasil prediksi dengan menggunakan metric: Accuracy, Precision,\n",
    "Recall dan F1; serta confusion_matrix hasil prediksi model."
   ]
  },
  {
   "cell_type": "code",
   "execution_count": 41,
   "metadata": {},
   "outputs": [],
   "source": [
    "evalindex = ['Decision Tree', 'Id3 Estimator', 'KMeans', 'Logistic Regression', 'Neural Network', 'SVM']\n",
    "evalcolumns = ['Accuracy', 'Precision', 'Recall', 'F1']\n",
    "\n",
    "acc_list = []\n",
    "prec_list = []\n",
    "recall_list = []\n",
    "f1_list = []"
   ]
  },
  {
   "cell_type": "code",
   "execution_count": 42,
   "metadata": {},
   "outputs": [],
   "source": [
    "def loadModel(filepath):\n",
    "    with open(filepath, \"rb\") as file:\n",
    "        loadedmodel = pickle.load(file)\n",
    "        return loadedmodel"
   ]
  },
  {
   "cell_type": "code",
   "execution_count": 43,
   "metadata": {},
   "outputs": [],
   "source": [
    "def evaluate(predresult):\n",
    "    accuracy = 0.0\n",
    "    precision = 0.0\n",
    "    recall = 0.0\n",
    "    f1 = 0.0    \n",
    "    try:\n",
    "        accuracy = accuracy_score(Y_test, predresult)\n",
    "        acc_list.append(accuracy)\n",
    "        print(\"Accuracy : \", accuracy)\n",
    "    except:\n",
    "        print(\"Error: Learning Type Error - Accuracy\")\n",
    "\n",
    "    try:\n",
    "        precision = precision_score(Y_test, predresult)\n",
    "        prec_list.append(precision)\n",
    "        print(\"Precision : \", precision)\n",
    "    except:\n",
    "        print(\"Error: Learning Type Error - Precision\")\n",
    "    \n",
    "    try:\n",
    "        recall = recall_score(Y_test, predresult)\n",
    "        recall_list.append(recall)\n",
    "        print(\"Recall : \", recall)\n",
    "    except:\n",
    "        print(\"Error: Learning Type Error - Recall\")\n",
    "    \n",
    "    try:\n",
    "        f1 = f1_score(Y_test, predresult, average='micro')\n",
    "        f1_list.append(f1)\n",
    "        print(\"F1 : \", f1)\n",
    "    except:\n",
    "        print(\"Error: Learning Type Error - F1\")\n",
    "    \n",
    "    try:\n",
    "        confusionmat = confusion_matrix(Y_test, predresult)\n",
    "        print(\"/ --- Confusion Matrix --- /\")\n",
    "        print(confusionmat)\n",
    "    except:\n",
    "        print(\"Error: Learning Type Error - Confusion Matrix\")\n",
    "\n",
    "    return accuracy, precision, recall, f1\n"
   ]
  },
  {
   "cell_type": "code",
   "execution_count": 44,
   "metadata": {},
   "outputs": [
    {
     "name": "stdout",
     "output_type": "stream",
     "text": [
      "Accuracy :  0.9122807017543859\n",
      "Precision :  0.9523809523809523\n",
      "Recall :  0.8955223880597015\n",
      "F1 :  0.9122807017543859\n",
      "/ --- Confusion Matrix --- /\n",
      "[[44  3]\n",
      " [ 7 60]]\n"
     ]
    }
   ],
   "source": [
    "# Prediksi data menggunakan model DecisionTreeClassification\n",
    "loadedDTC = loadModel(\"modelfile/DTCmodel.pkl\")\n",
    "dtcacc, dtcprec, dtcrecall, dtcf1 = evaluate(loadedDTC.predict(X_test))"
   ]
  },
  {
   "cell_type": "code",
   "execution_count": 45,
   "metadata": {},
   "outputs": [
    {
     "name": "stdout",
     "output_type": "stream",
     "text": [
      "Accuracy :  0.9122807017543859\n",
      "Precision :  0.9384615384615385\n",
      "Recall :  0.9104477611940298\n",
      "F1 :  0.9122807017543859\n",
      "/ --- Confusion Matrix --- /\n",
      "[[43  4]\n",
      " [ 6 61]]\n"
     ]
    }
   ],
   "source": [
    "# # Prediksi data menggunakan model ID3Estimator\n",
    "loadedID3E = loadModel(\"modelfile/ID3model.pkl\")\n",
    "id3macc, id3mprec, id3mrecall, id3mf1 = evaluate(loadedID3E.predict(X_test))"
   ]
  },
  {
   "cell_type": "code",
   "execution_count": 47,
   "metadata": {},
   "outputs": [],
   "source": [
    "# Prediksi data menggunakan model K Means\n",
    "# loadedkmeans = loadModel(\"modelfile/KMeansmodel.pkl\")\n",
    "# kmeansacc, kmeansprec, kmeansrecall, kmeansf1 = evaluate(loadedkmeans.predict(X_test))"
   ]
  },
  {
   "cell_type": "code",
   "execution_count": 48,
   "metadata": {},
   "outputs": [
    {
     "name": "stdout",
     "output_type": "stream",
     "text": [
      "Accuracy :  0.9473684210526315\n",
      "Precision :  0.9841269841269841\n",
      "Recall :  0.9253731343283582\n",
      "F1 :  0.9473684210526315\n",
      "/ --- Confusion Matrix --- /\n",
      "[[46  1]\n",
      " [ 5 62]]\n"
     ]
    }
   ],
   "source": [
    "# Prediksi data menggunakan model LogisticRegression\n",
    "loadedLR = loadModel(\"modelfile/LRmodel.pkl\")\n",
    "lracc, lrprec, lrrecall, lrf1 = evaluate(loadedLR.predict(X_test))"
   ]
  },
  {
   "cell_type": "code",
   "execution_count": 49,
   "metadata": {},
   "outputs": [
    {
     "name": "stdout",
     "output_type": "stream",
     "text": [
      "Accuracy :  0.9473684210526315\n",
      "Precision :  0.9552238805970149\n",
      "Recall :  0.9552238805970149\n",
      "F1 :  0.9473684210526315\n",
      "/ --- Confusion Matrix --- /\n",
      "[[44  3]\n",
      " [ 3 64]]\n"
     ]
    }
   ],
   "source": [
    "# Prediksi data menggunakan model NeuralNetwork\n",
    "loadedNN = loadModel(\"modelfile/NNmodel.pkl\")\n",
    "nnacc, nnprec, nnrecall, nnf1 = evaluate(loadedNN.predict(X_test))"
   ]
  },
  {
   "cell_type": "code",
   "execution_count": 50,
   "metadata": {},
   "outputs": [
    {
     "name": "stdout",
     "output_type": "stream",
     "text": [
      "Accuracy :  0.9824561403508771\n",
      "Precision :  0.9710144927536232\n",
      "Recall :  1.0\n",
      "F1 :  0.9824561403508771\n",
      "/ --- Confusion Matrix --- /\n",
      "[[45  2]\n",
      " [ 0 67]]\n"
     ]
    }
   ],
   "source": [
    "# Prediksi data menggunakan model SVM\n",
    "loadedSVM = loadModel(\"modelfile/SVMmodel.pkl\")\n",
    "svmacc, svmprec, svmrecall, svmf1 = evaluate(loadedSVM.predict(X_test))"
   ]
  },
  {
   "attachments": {},
   "cell_type": "markdown",
   "metadata": {},
   "source": [
    "## **Nomor 5 : Analisis Hasil Metrik Evaluasi**\n",
    "---------------------------------------------------------------\n",
    "Analisis hasil metrik evaluasi yang sudah diperoleh untuk semua algoritma\n",
    "pembelajaran, dalam bentuk perbandingan nilai dan penjelasan singkat mengenai\n",
    "hasil tersebut"
   ]
  },
  {
   "attachments": {},
   "cell_type": "markdown",
   "metadata": {},
   "source": [
    "### Akurasi"
   ]
  },
  {
   "cell_type": "code",
   "execution_count": 52,
   "metadata": {},
   "outputs": [
    {
     "name": "stdout",
     "output_type": "stream",
     "text": [
      "Akurasi DecisionTreeClassification =  0.9122807017543859\n",
      "Akurasi DecisionTreeClassification =  0.9122807017543859\n",
      "Akurasi LogisticRegression =  0.9473684210526315\n",
      "Akurasi NeuralNetwork =  0.9473684210526315\n",
      "Akurasi SVM =  0.9824561403508771\n"
     ]
    }
   ],
   "source": [
    "print(\"Akurasi DecisionTreeClassification = \", dtcacc)\n",
    "print(\"Akurasi DecisionTreeClassification = \", id3macc)\n",
    "# print(\"Akurasi K Means = \", kmeansacc)\n",
    "print(\"Akurasi LogisticRegression = \", lracc)\n",
    "print(\"Akurasi NeuralNetwork = \", nnacc)\n",
    "print(\"Akurasi SVM = \", svmacc)"
   ]
  },
  {
   "attachments": {},
   "cell_type": "markdown",
   "metadata": {},
   "source": [
    "### Presisi"
   ]
  },
  {
   "cell_type": "code",
   "execution_count": 54,
   "metadata": {},
   "outputs": [
    {
     "name": "stdout",
     "output_type": "stream",
     "text": [
      "Presisi DecisionTreeClassification =  0.9523809523809523\n",
      "Akurasi DecisionTreeClassification =  0.9384615384615385\n",
      "Presisi LogisticRegression =  0.9841269841269841\n",
      "Presisi NeuralNetwork =  0.9552238805970149\n",
      "Presisi SVM =  0.9710144927536232\n"
     ]
    }
   ],
   "source": [
    "print(\"Presisi DecisionTreeClassification = \", dtcprec)\n",
    "print(\"Akurasi DecisionTreeClassification = \", id3mprec)\n",
    "# print(\"Presisi K Means = \", kmeansprec) # Harusnya 0, karena unsupervised -> harusnya gabisa\n",
    "print(\"Presisi LogisticRegression = \", lrprec)\n",
    "print(\"Presisi NeuralNetwork = \", nnprec)\n",
    "print(\"Presisi SVM = \", svmprec)"
   ]
  },
  {
   "attachments": {},
   "cell_type": "markdown",
   "metadata": {},
   "source": [
    "### Recall"
   ]
  },
  {
   "cell_type": "code",
   "execution_count": 55,
   "metadata": {},
   "outputs": [
    {
     "name": "stdout",
     "output_type": "stream",
     "text": [
      "Recall DecisionTreeClassification =  0.8955223880597015\n",
      "Akurasi DecisionTreeClassification =  0.9104477611940298\n",
      "Recall LogisticRegression =  0.9253731343283582\n",
      "Recall NeuralNetwork =  0.9552238805970149\n",
      "Recall SVM =  1.0\n"
     ]
    }
   ],
   "source": [
    "print(\"Recall DecisionTreeClassification = \", dtcrecall)\n",
    "print(\"Akurasi DecisionTreeClassification = \", id3mrecall)\n",
    "# print(\"Recall K Means = \", kmeansrecall) # Harusnya 0, karena unsupervised -> harusnya gabisa\n",
    "print(\"Recall LogisticRegression = \", lrrecall)\n",
    "print(\"Recall NeuralNetwork = \", nnrecall)\n",
    "print(\"Recall SVM = \", svmrecall)"
   ]
  },
  {
   "attachments": {},
   "cell_type": "markdown",
   "metadata": {},
   "source": [
    "### F1"
   ]
  },
  {
   "cell_type": "code",
   "execution_count": 57,
   "metadata": {},
   "outputs": [
    {
     "name": "stdout",
     "output_type": "stream",
     "text": [
      "Recall DecisionTreeClassification =  0.9122807017543859\n",
      "Akurasi DecisionTreeClassification =  0.9122807017543859\n",
      "Recall LogisticRegression =  0.9473684210526315\n",
      "Recall NeuralNetwork =  0.9473684210526315\n",
      "Recall SVM =  0.9824561403508771\n"
     ]
    }
   ],
   "source": [
    "print(\"Recall DecisionTreeClassification = \", dtcf1)\n",
    "print(\"Akurasi DecisionTreeClassification = \", id3mf1)\n",
    "# print(\"Recall K Means = \", kmeansf1) # Harusnya 0, karena unsupervised -> harusnya gabisa\n",
    "print(\"Recall LogisticRegression = \", lrf1)\n",
    "print(\"Recall NeuralNetwork = \", nnf1)\n",
    "print(\"Recall SVM = \", svmf1)"
   ]
  },
  {
   "cell_type": "markdown",
   "metadata": {},
   "source": [
    "### Confusion Matrix\n"
   ]
  },
  {
   "cell_type": "code",
   "execution_count": null,
   "metadata": {},
   "outputs": [],
   "source": []
  },
  {
   "attachments": {},
   "cell_type": "markdown",
   "metadata": {},
   "source": [
    "## **Nomor 6 : K-Fold Cross Validation**\n",
    "---------------------------------------------------------------\n",
    "Lakukan k-fold cross validation (dengan k=10), dengan fungsi cross_validate pada\n",
    "algoritme DecisionTreeClassifier saja untuk dataset breast cancer. Tampilkan hasil\n",
    "akurasi dan F1 score dari 10-fold cross validation. Bandingkan dan analisis hasil\n",
    "pembandingan dengan akurasi dan F1 score DecisionTreeClassifier pada hasil di\n",
    "butir (4)."
   ]
  },
  {
   "cell_type": "code",
   "execution_count": 66,
   "metadata": {},
   "outputs": [
    {
     "name": "stdout",
     "output_type": "stream",
     "text": [
      "Setelah dilakukan Cross Validation: \n",
      "Validation Accuracy: 0.9188405797101449\n",
      "Validation F1: 0.9367289836437296\n",
      "Perbandingan dengan proses dengan load model yang tersimpan: \n",
      "Validation Accuracy: 0.9122807017543859\n",
      "Validation F1: 0.9122807017543859\n"
     ]
    }
   ],
   "source": [
    "from sklearn.model_selection import cross_validate\n",
    "\n",
    "dtModel = DecisionTreeClassifier(criterion=\"entropy\",\n",
    "                                     random_state=0)\n",
    "\n",
    "_scoring = ['accuracy', 'precision', 'recall', 'f1']\n",
    "results = cross_validate(estimator=dtModel,\n",
    "                               X=X_train,\n",
    "                               y=Y_train,\n",
    "                               cv=10,\n",
    "                               scoring=_scoring,\n",
    "                               return_train_score=True)\n",
    "print(\"Setelah dilakukan Cross Validation: \")\n",
    "print(\"Validation Accuracy: \" + str(results['test_accuracy'].mean()))\n",
    "print(\"Validation F1: \" + str(results['test_f1'].mean()))\n",
    "print(\"Perbandingan dengan proses dengan load model yang tersimpan: \")\n",
    "print(\"Validation Accuracy: \" + str(dtcacc))\n",
    "print(\"Validation F1: \" + str(dtcf1))"
   ]
  }
 ],
 "metadata": {
  "kernelspec": {
   "display_name": "Python 3",
   "language": "python",
   "name": "python3"
  },
  "language_info": {
   "codemirror_mode": {
    "name": "ipython",
    "version": 3
   },
   "file_extension": ".py",
   "mimetype": "text/x-python",
   "name": "python",
   "nbconvert_exporter": "python",
   "pygments_lexer": "ipython3",
   "version": "3.10.0"
  },
  "orig_nbformat": 4,
  "vscode": {
   "interpreter": {
    "hash": "52634da84371cba311ea128a5ea7cdc41ff074b781779e754b270ff9f8153cee"
   }
  }
 },
 "nbformat": 4,
 "nbformat_minor": 2
}
